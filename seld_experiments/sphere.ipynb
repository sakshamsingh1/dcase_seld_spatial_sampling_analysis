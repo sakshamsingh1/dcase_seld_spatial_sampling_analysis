{
 "cells": [
  {
   "cell_type": "code",
   "execution_count": 1,
   "metadata": {
    "collapsed": true
   },
   "outputs": [],
   "source": [
    "import qutip\n",
    "import numpy as np"
   ]
  },
  {
   "cell_type": "code",
   "execution_count": 2,
   "outputs": [],
   "source": [
    "azimuths = list(range(-180, 180, 10))\n",
    "elevations = list(range(-90, 90, 10))\n",
    "\n",
    "base_pts = []\n",
    "for azi in azimuths:\n",
    "    for elev in elevations:\n",
    "        ele_rad = azi * np.pi / 180.\n",
    "        azi_rad = elev * np.pi / 180\n",
    "\n",
    "        tmp_label = np.cos(ele_rad)\n",
    "        x = np.cos(azi_rad) * tmp_label\n",
    "        y = np.sin(azi_rad) * tmp_label\n",
    "        z = np.sin(ele_rad)\n",
    "\n",
    "        base_pts.append([x,y,z])"
   ],
   "metadata": {
    "collapsed": false,
    "pycharm": {
     "name": "#%%\n"
    }
   }
  },
  {
   "cell_type": "code",
   "execution_count": 7,
   "outputs": [],
   "source": [
    "def get_fib_rs(N):\n",
    "    def phi_n(n):\n",
    "        return 2 * np.pi * n * (1 - (2 / (1 + np.sqrt(5))))\n",
    "\n",
    "    def theta_n(n, N):\n",
    "        return np.arccos(1 - (2 * n / N))\n",
    "\n",
    "    def r_n(n, N):\n",
    "        return np.array([\n",
    "            np.cos(phi_n(n)) * np.sin(theta_n(n, N)),\n",
    "            np.sin(phi_n(n)) * np.sin(theta_n(n, N)),\n",
    "            np.cos(theta_n(n, N)),\n",
    "        ])\n",
    "    rs = []\n",
    "    for n in range(N):\n",
    "        rs.append(r_n(n, N))\n",
    "    rs = np.array(rs)\n",
    "    return rs\n",
    "\n",
    "# N = 32768\n",
    "N = 300\n",
    "\n",
    "fib_pts = get_fib_rs(N)"
   ],
   "metadata": {
    "collapsed": false,
    "pycharm": {
     "name": "#%%\n"
    }
   }
  },
  {
   "cell_type": "code",
   "execution_count": 8,
   "outputs": [
    {
     "name": "stderr",
     "output_type": "stream",
     "text": [
      "qt.qpa.window: <QNSWindow: 0x7f8a9f0e61e0; contentView=<QNSView: 0x7f8a9f0e5dd0; QCocoaWindow(0x600003864370, window=QWidgetWindow(0x600002bcaee0, name=\"QMainWindowClassWindow\"))>> has active key-value observers (KVO)! These will stop working now that the window is recreated, and will result in exceptions when the observers are removed. Break in QCocoaWindow::recreateWindowIfNeeded to debug.\n"
     ]
    }
   ],
   "source": [
    "from mayavi import mlab\n",
    "import numpy as np\n",
    "\n",
    "# Create a sphere\n",
    "r = 1.0\n",
    "pi = np.pi\n",
    "cos = np.cos\n",
    "sin = np.sin\n",
    "phi, theta = np.mgrid[0:pi:101j, 0:2 * pi:101j]\n",
    "\n",
    "x = r*sin(phi)*cos(theta)\n",
    "y = r*sin(phi)*sin(theta)\n",
    "z = r*cos(phi)\n",
    "\n",
    "mlab.figure(1, bgcolor=(1, 1, 1), fgcolor=(0, 0, 0), size=(800, 800))\n",
    "mlab.clf()\n",
    "\n",
    "# mlab.figure('A')\n",
    "xx, yy, zz = np.hsplit(np.array(fib_pts)[0:65000,:], 3)\n",
    "mlab.mesh(x , y , z, color=(1,0.82,0.86)) #(1,0.71,0.75)\n",
    "mlab.points3d(xx, yy, zz, scale_factor=0.035)\n",
    "\n",
    "\n",
    "mlab.mesh(x+2.5 , y , z, color=(1,0.82,0.86))\n",
    "xx, yy, zz = np.hsplit(np.array(base_pts)[0:65000,:], 3)\n",
    "# mlab.mesh(x , y , z, color=(0.0,0.5,0.5))\n",
    "mlab.points3d(xx+2.5, yy, zz, scale_factor=0.035)\n",
    "\n",
    "mlab.text3d(0,0,1,'F',scale=0.05)\n",
    "\n",
    "mlab.show()"
   ],
   "metadata": {
    "collapsed": false,
    "pycharm": {
     "name": "#%%\n"
    }
   }
  },
  {
   "cell_type": "code",
   "execution_count": 21,
   "outputs": [
    {
     "data": {
      "text/plain": "(101, 101)"
     },
     "execution_count": 21,
     "metadata": {},
     "output_type": "execute_result"
    }
   ],
   "source": [
    "dx = r*sin(phi)*cos(theta)\n",
    "phi.shape"
   ],
   "metadata": {
    "collapsed": false,
    "pycharm": {
     "name": "#%%\n"
    }
   }
  },
  {
   "cell_type": "code",
   "execution_count": 26,
   "outputs": [
    {
     "data": {
      "text/plain": "array([[ 0.00000000e+00,  0.00000000e+00,  0.00000000e+00, ...,\n         0.00000000e+00,  0.00000000e+00,  0.00000000e+00],\n       [ 3.14107591e-02,  3.13487771e-02,  3.11630759e-02, ...,\n         3.11630759e-02,  3.13487771e-02,  3.14107591e-02],\n       [ 6.27905195e-02,  6.26666168e-02,  6.22953975e-02, ...,\n         6.22953975e-02,  6.26666168e-02,  6.27905195e-02],\n       ...,\n       [ 6.27905195e-02,  6.26666168e-02,  6.22953975e-02, ...,\n         6.22953975e-02,  6.26666168e-02,  6.27905195e-02],\n       [ 3.14107591e-02,  3.13487771e-02,  3.11630759e-02, ...,\n         3.11630759e-02,  3.13487771e-02,  3.14107591e-02],\n       [-3.21624530e-16, -3.20989877e-16, -3.19088424e-16, ...,\n        -3.19088424e-16, -3.20989877e-16, -3.21624530e-16]])"
     },
     "execution_count": 26,
     "metadata": {},
     "output_type": "execute_result"
    }
   ],
   "source": [
    "x[:,:]"
   ],
   "metadata": {
    "collapsed": false,
    "pycharm": {
     "name": "#%%\n"
    }
   }
  },
  {
   "cell_type": "code",
   "execution_count": null,
   "outputs": [],
   "source": [],
   "metadata": {
    "collapsed": false,
    "pycharm": {
     "name": "#%%\n"
    }
   }
  }
 ],
 "metadata": {
  "kernelspec": {
   "display_name": "Python 3",
   "language": "python",
   "name": "python3"
  },
  "language_info": {
   "codemirror_mode": {
    "name": "ipython",
    "version": 2
   },
   "file_extension": ".py",
   "mimetype": "text/x-python",
   "name": "python",
   "nbconvert_exporter": "python",
   "pygments_lexer": "ipython2",
   "version": "2.7.6"
  }
 },
 "nbformat": 4,
 "nbformat_minor": 0
}